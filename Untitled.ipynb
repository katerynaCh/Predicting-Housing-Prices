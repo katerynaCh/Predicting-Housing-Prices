{
 "cells": [
  {
   "cell_type": "markdown",
   "metadata": {},
   "source": [
    "# STEP 1 - LOAD DATA"
   ]
  },
  {
   "cell_type": "code",
   "execution_count": 1,
   "metadata": {},
   "outputs": [
    {
     "name": "stdout",
     "output_type": "stream",
     "text": [
      "Done\n"
     ]
    }
   ],
   "source": [
    "import pandas as pd\n",
    "import matplotlib.pyplot as plt\n",
    "import seaborn as sns\n",
    "import numpy as np\n",
    "from scipy.stats import norm\n",
    "from sklearn.preprocessing import StandardScaler\n",
    "from scipy import stats\n",
    "import warnings\n",
    "from sklearn import model_selection\n",
    "from sklearn.metrics import accuracy_score\n",
    "from sklearn.linear_model import LogisticRegression, LinearRegression, Ridge, Lasso, ElasticNet\n",
    "from sklearn.ensemble import RandomForestRegressor\n",
    "import catboost\n",
    "from sklearn import preprocessing\n",
    "from sklearn.model_selection import KFold\n",
    "\n",
    "data_train = pd.read_csv('C:\\\\Users\\\\Kateryna\\\\Desktop\\\\kaggle\\\\Housing\\\\train2.csv')\n",
    "data_test = pd.read_csv('test (1).csv')\n",
    "print(\"Done\")\n",
    "\n",
    "def rmsle(actual, predicted):\n",
    "    return np.sqrt(np.mean((np.power(np.log(np.array(actual)+1) - \n",
    "            np.log(np.array(predicted)+1), 2))))\n",
    "\n",
    "all_data = pd.concat((data_train.loc[:,'MSSubClass':'SaleCondition'],\n",
    "                      data_test.loc[:,'MSSubClass':'SaleCondition']))\n",
    "all_data = all_data.reset_index()\n",
    "all_data= all_data.drop(\"index\", axis = 1)"
   ]
  },
  {
   "cell_type": "code",
   "execution_count": 2,
   "metadata": {},
   "outputs": [
    {
     "data": {
      "text/html": [
       "<div>\n",
       "<style>\n",
       "    .dataframe thead tr:only-child th {\n",
       "        text-align: right;\n",
       "    }\n",
       "\n",
       "    .dataframe thead th {\n",
       "        text-align: left;\n",
       "    }\n",
       "\n",
       "    .dataframe tbody tr th {\n",
       "        vertical-align: top;\n",
       "    }\n",
       "</style>\n",
       "<table border=\"1\" class=\"dataframe\">\n",
       "  <thead>\n",
       "    <tr style=\"text-align: right;\">\n",
       "      <th></th>\n",
       "      <th>Total</th>\n",
       "      <th>Percent</th>\n",
       "    </tr>\n",
       "  </thead>\n",
       "  <tbody>\n",
       "    <tr>\n",
       "      <th>PoolQC</th>\n",
       "      <td>2901</td>\n",
       "      <td>0.996565</td>\n",
       "    </tr>\n",
       "    <tr>\n",
       "      <th>MiscFeature</th>\n",
       "      <td>2806</td>\n",
       "      <td>0.963930</td>\n",
       "    </tr>\n",
       "    <tr>\n",
       "      <th>Alley</th>\n",
       "      <td>2713</td>\n",
       "      <td>0.931982</td>\n",
       "    </tr>\n",
       "    <tr>\n",
       "      <th>Fence</th>\n",
       "      <td>2344</td>\n",
       "      <td>0.805222</td>\n",
       "    </tr>\n",
       "    <tr>\n",
       "      <th>FireplaceQu</th>\n",
       "      <td>1417</td>\n",
       "      <td>0.486774</td>\n",
       "    </tr>\n",
       "    <tr>\n",
       "      <th>LotFrontage</th>\n",
       "      <td>486</td>\n",
       "      <td>0.166953</td>\n",
       "    </tr>\n",
       "    <tr>\n",
       "      <th>GarageCond</th>\n",
       "      <td>157</td>\n",
       "      <td>0.053933</td>\n",
       "    </tr>\n",
       "    <tr>\n",
       "      <th>GarageQual</th>\n",
       "      <td>157</td>\n",
       "      <td>0.053933</td>\n",
       "    </tr>\n",
       "    <tr>\n",
       "      <th>GarageYrBlt</th>\n",
       "      <td>157</td>\n",
       "      <td>0.053933</td>\n",
       "    </tr>\n",
       "    <tr>\n",
       "      <th>GarageFinish</th>\n",
       "      <td>157</td>\n",
       "      <td>0.053933</td>\n",
       "    </tr>\n",
       "  </tbody>\n",
       "</table>\n",
       "</div>"
      ],
      "text/plain": [
       "              Total   Percent\n",
       "PoolQC         2901  0.996565\n",
       "MiscFeature    2806  0.963930\n",
       "Alley          2713  0.931982\n",
       "Fence          2344  0.805222\n",
       "FireplaceQu    1417  0.486774\n",
       "LotFrontage     486  0.166953\n",
       "GarageCond      157  0.053933\n",
       "GarageQual      157  0.053933\n",
       "GarageYrBlt     157  0.053933\n",
       "GarageFinish    157  0.053933"
      ]
     },
     "execution_count": 2,
     "metadata": {},
     "output_type": "execute_result"
    }
   ],
   "source": [
    "total = all_data.isnull().sum().sort_values(ascending=False)\n",
    "percent = (all_data.isnull().sum()/all_data.isnull().count()).sort_values(ascending=False)\n",
    "missing_data = pd.concat([total, percent], axis=1, keys=['Total', 'Percent'])\n",
    "missing_data[:10]"
   ]
  },
  {
   "cell_type": "markdown",
   "metadata": {},
   "source": [
    "From above, we can see that columns PoolQC, MiscFeature, Alley and Fence have the most NaN values. We can see that it identifies the absence of corresponding features - Pools, Alleys, Fences. MiscFeature does not seem to add importance, so we will remove it.\n",
    "We also want to remove the columns where most data values are the same. Those are: 'Street', 'Utilities', 'Condition2', 'RoofMatl', 'Heating'. After several tries, turned out that only Utilities, RoofMatl, Heating are irrelevant, so we will keep the rest.\n",
    "We should also pay attention to the features that have the same meaning. For example GarageArea = GarageCars, TotalBsmt = 1stFlrSF almost everywhere and GrLivArea = TotRmsAbvGrd. We will remove one of each pair."
   ]
  },
  {
   "cell_type": "code",
   "execution_count": 3,
   "metadata": {
    "collapsed": true
   },
   "outputs": [],
   "source": [
    "#remove columns where most of values are NAs \n",
    "#all_data = all_data.drop('Alley', axis=1)\n",
    "#all_data = all_data.drop('PoolQC', axis=1)\n",
    "all_data = all_data.drop('MiscFeature', axis=1)\n",
    "\n",
    "#try to remove features where most are 1 class\n",
    "#all_data = all_data.drop('Street', axis = 1)\n",
    "all_data = all_data.drop('Utilities', axis = 1)\n",
    "#all_data = all_data.drop('Condition2', axis = 1)\n",
    "all_data = all_data.drop('RoofMatl', axis = 1)\n",
    "all_data = all_data.drop('Heating', axis = 1)\n",
    "#GarageArea and GarageCars are basically the same, so we only need one to reduce redundancy\n",
    "all_data = all_data.drop('GarageArea', axis = 1)\n",
    "#same as TotalBsmt\n",
    "all_data = all_data.drop('1stFlrSF', axis = 1)\n",
    "#same as GrLivArea mor or less\n",
    "all_data = all_data.drop('TotRmsAbvGrd', axis = 1)"
   ]
  },
  {
   "cell_type": "markdown",
   "metadata": {},
   "source": [
    "Nest, we want to identify which features have missing values so that we can deal with them."
   ]
  },
  {
   "cell_type": "code",
   "execution_count": 4,
   "metadata": {},
   "outputs": [
    {
     "data": {
      "text/plain": [
       "['MSZoning',\n",
       " 'Alley',\n",
       " 'Exterior1st',\n",
       " 'Exterior2nd',\n",
       " 'MasVnrType',\n",
       " 'BsmtQual',\n",
       " 'BsmtCond',\n",
       " 'BsmtExposure',\n",
       " 'BsmtFinType1',\n",
       " 'BsmtFinType2',\n",
       " 'Electrical',\n",
       " 'KitchenQual',\n",
       " 'Functional',\n",
       " 'FireplaceQu',\n",
       " 'GarageType',\n",
       " 'GarageFinish',\n",
       " 'GarageQual',\n",
       " 'GarageCond',\n",
       " 'PoolQC',\n",
       " 'Fence',\n",
       " 'SaleType']"
      ]
     },
     "execution_count": 4,
     "metadata": {},
     "output_type": "execute_result"
    }
   ],
   "source": [
    "cat_hasnull = [col for col in all_data.select_dtypes(['object']) if all_data[col].isnull().any()]\n",
    "cat_hasnull"
   ]
  },
  {
   "cell_type": "markdown",
   "metadata": {},
   "source": [
    "It makes sense that Garage was built at the same time with the building. At least it is true in most cases in the dataset. So we will substitute NAs in GarageYrBlt with YearBuilt.\n",
    "In Exterior1st and Exterior2 most likely NAs are present as no appropriate class is present. We will replace them with Other."
   ]
  },
  {
   "cell_type": "code",
   "execution_count": 5,
   "metadata": {
    "collapsed": true
   },
   "outputs": [],
   "source": [
    "#it is reasonable that garage was built after the house was built, so we can replace missing values\n",
    "all_data[\"GarageYrBlt\"] = all_data[\"GarageYrBlt\"].fillna(all_data[\"YearBuilt\"])\n",
    "#most likely Nas are due to the absense of appropriate class. Let's mark it with 'Other\n",
    "all_data[\"Exterior1st\"] = all_data[\"Exterior1st\"].fillna('Other')\n",
    "all_data[\"Exterior2nd\"] = all_data[\"Exterior1st\"].fillna('Other')"
   ]
  },
  {
   "cell_type": "markdown",
   "metadata": {},
   "source": [
    "In 'Electical' we will replace NAs with SBrkr, as it is the most common class. In the same way, we replace NAs in 'Functional' with 'Typ'.\n",
    "For the features identifying some feature of some facility, NA probably means the absense of this facility. We will replace NAs with 0 in such colunmns."
   ]
  },
  {
   "cell_type": "code",
   "execution_count": 6,
   "metadata": {
    "collapsed": true
   },
   "outputs": [],
   "source": [
    "cat_hasnull = ['MasVnrType', 'BsmtQual', 'BsmtCond', 'BsmtExposure', 'BsmtFinType1', 'BsmtFinType2', 'FireplaceQu', 'GarageType',\n",
    "              'GarageFinish', 'GarageQual','GarageCond', 'Fence', \"Alley\", \"PoolQC\"]\n",
    "for col in cat_hasnull:\n",
    "    null_idx = all_data[col].isnull()\n",
    "    all_data.loc[null_idx, col] = 0\n",
    "null_idx_el = all_data['Electrical'].isnull()\n",
    "all_data.loc[null_idx_el, 'Electrical'] = 'SBrkr'\n",
    "null_idx_fu = all_data['Functional'].isnull()\n",
    "all_data.loc[null_idx_fu, 'Functional'] = 'Typ'"
   ]
  },
  {
   "cell_type": "markdown",
   "metadata": {},
   "source": [
    "Next, we create new features:\n",
    "- Remodelled - indicates if the house was remodelled after construction\n",
    "- YearSinceRemodelled - indicates how many years ago the house was remodelled\n",
    "- Age - indicates how old the house is\n",
    "- HowFastSold - indicates how wast the house was sold at the first time. Houses that were sold faster should be better.\n",
    "- Has2ndFloor - indicates if the house has more than 1 floor\n",
    "- Season - indicates the season when the house was built. The price range vary per season"
   ]
  },
  {
   "cell_type": "code",
   "execution_count": 7,
   "metadata": {
    "collapsed": true
   },
   "outputs": [],
   "source": [
    "all_data[\"Remodelled\"] = (all_data[\"YearBuilt\"] != all_data[\"YearRemodAdd\"]).astype(int)\n",
    "all_data[\"YearSinceRemodelled\"] = (2017 - all_data[\"YearRemodAdd\"])\n",
    "all_data['Age'] = 2017 - all_data[\"YearBuilt\"]\n",
    "all_data['HowFastSold'] = all_data[\"YrSold\"] - all_data[\"YearBuilt\"]\n",
    "all_data[\"Has2ndFloor\"] = (all_data[\"2ndFlrSF\"] != 0).astype(int)\n",
    "\n",
    "#all_data[\"SaneSold\"] = (all_data[\"YearBuilt\"] == all_data[\"YrSold\"]).astype(int)\n",
    "for i in range(0,all_data.shape[0]):\n",
    "    if ((all_data.iloc[i]['MoSold'] == 1) | (all_data.iloc[i]['MoSold'] == 12) |  (all_data.iloc[i]['MoSold'] == 2)):\n",
    "           all_data.loc[i,\"Season\"] = \"winter\"\n",
    "    if ((all_data.iloc[i]['MoSold'] == 3) | (all_data.iloc[i]['MoSold'] == 4) |  (all_data.iloc[i]['MoSold'] == 5)):\n",
    "           all_data.loc[i,\"Season\"] = \"spring\"\n",
    "    if ((all_data.iloc[i]['MoSold'] == 6) | (all_data.iloc[i]['MoSold'] == 7) |  (all_data.iloc[i]['MoSold'] == 8)):\n",
    "           all_data.loc[i,\"Season\"] = \"summer\"\n",
    "    if ((all_data.iloc[i]['MoSold'] == 9) | (all_data.iloc[i]['MoSold'] == 10) |  (all_data.iloc[i]['MoSold'] == 11)):\n",
    "           all_data.loc[i,\"Season\"] = \"autumn\""
   ]
  },
  {
   "cell_type": "markdown",
   "metadata": {},
   "source": [
    "MSSubClass is represented as integers, although logically this is the categorical feature. We will transform it then. In CentralAir, we substitute Yes with 1, No with 0."
   ]
  },
  {
   "cell_type": "code",
   "execution_count": 8,
   "metadata": {
    "collapsed": true
   },
   "outputs": [],
   "source": [
    "all_data['MSSubClass'] = all_data['MSSubClass'].astype('category')\n",
    "#change Y with 1, N with 0\n",
    "all_data['CentralAir'] = (all_data['CentralAir'] == 'Y').astype(int)\n",
    "#all_data.YrSold = all_data.loc[:, \"YrSold\"].max() - all_data.YrSold"
   ]
  },
  {
   "cell_type": "markdown",
   "metadata": {},
   "source": [
    "Change categorical values in appropriate features to numeric, as it is clear that Excellent condition is > than Good condition."
   ]
  },
  {
   "cell_type": "code",
   "execution_count": 9,
   "metadata": {
    "collapsed": true
   },
   "outputs": [],
   "source": [
    "all_data = all_data.replace(\n",
    "    {\n",
    "        'ExterQual': {'Ex': 5,\n",
    "                      'Gd': 4,\n",
    "                      'TA': 3,\n",
    "                      'Fa': 2,\n",
    "                      'Po': 1\n",
    "                     },\n",
    "        'ExterCond': {'Ex': 5,\n",
    "                      'Gd': 4,\n",
    "                      'TA': 3,\n",
    "                      'Fa': 2,\n",
    "                      'Po': 1\n",
    "                     }\n",
    "    }\n",
    ")\n",
    "all_data = all_data.replace(\n",
    "    {\n",
    "        'BsmtQual': {\n",
    "            'Ex': 5,\n",
    "            'Gd': 4,\n",
    "            'TA': 3,\n",
    "            'Fa': 2,\n",
    "            'Po': 1,\n",
    "            '0': 0\n",
    "        },\n",
    "        'BsmtExposure': {\n",
    "            'Gd': 3,\n",
    "            'Av': 2,\n",
    "            'Mn': 1,\n",
    "            'No': 0,\n",
    "            '0': 0\n",
    "        },\n",
    "        'BsmtCond': {\n",
    "            'Ex': 5,\n",
    "            'Gd': 4,\n",
    "            'TA': 3,\n",
    "            'Fa': 2,\n",
    "            'Po': 1,\n",
    "            '0': 0\n",
    "        },\n",
    "    }\n",
    ")\n",
    "all_data = all_data.replace(\n",
    "    {\n",
    "        'HeatingQC': {\n",
    "            'Ex': 5,\n",
    "            'Gd': 4,\n",
    "            'TA': 3,\n",
    "            'Fa': 2,\n",
    "            'Po': 1            \n",
    "        },\n",
    "        'KitchenQual': {\n",
    "            'Ex': 5,\n",
    "            'Gd': 4,\n",
    "            'TA': 3,\n",
    "            'Fa': 2,\n",
    "            'Po': 1\n",
    "        },\n",
    "        'Functional': {\n",
    "            'Typ': 0,\n",
    "            'Min1': 1,\n",
    "            'Min2': 1,\n",
    "            'Mod': 2,\n",
    "            'Maj1': 3,\n",
    "            'Maj2': 4,\n",
    "            'Sev': 5,\n",
    "            'Sal': 6\n",
    "            },\n",
    "        'FireplaceQu': {\n",
    "            'Ex': 5,\n",
    "            'Gd': 4,\n",
    "            'TA': 3,\n",
    "            'Fa': 2,\n",
    "            'Po': 1,\n",
    "            '0': 0\n",
    "        },\n",
    "        'GarageQual': {\n",
    "            'Ex': 5,\n",
    "            'Gd': 4,\n",
    "            'TA': 3,\n",
    "            'Fa': 2,\n",
    "            'Po': 1,\n",
    "            '0': 0\n",
    "        },\n",
    "        'GarageCond': {\n",
    "            'Ex': 5,\n",
    "            'Gd': 4,\n",
    "            'TA': 3,\n",
    "            'Fa': 2,\n",
    "            'Po': 1,\n",
    "            '0': 0\n",
    "        },\n",
    "        'PavedDrive': {\n",
    "            'Y': 1,\n",
    "            'P': 0.5,\n",
    "            'N': 0\n",
    "        },\n",
    "        'PoolQC': {\n",
    "            'Ex': 5,\n",
    "            'Gd': 4,\n",
    "            'TA': 3,\n",
    "            'Fa': 2,\n",
    "            'Po': 1,\n",
    "            '0': 0,\n",
    "        },\n",
    "        'Fence': {\n",
    "            'GdPrv': 2,\n",
    "            'MnPrv': 1,\n",
    "            'GdWo': 2,\n",
    "            'MnWw': 1,\n",
    "            '0': 0\n",
    "        }\n",
    "    }\n",
    ")"
   ]
  },
  {
   "cell_type": "markdown",
   "metadata": {},
   "source": [
    "Introduce new features.\n",
    "- GoodNeighborhood for neighborhoods with most expensive houses on average \n",
    "- features that show that some facilities have good quality or poor quality\n",
    "- linear modification of features with the highest correlation with SalePrice\n",
    "- total area, calculated differently from GrLivArea\n",
    "- indicators of presence of fireplace and wooddeck\n",
    "- indicator of 'good sub class'"
   ]
  },
  {
   "cell_type": "code",
   "execution_count": 10,
   "metadata": {
    "collapsed": true
   },
   "outputs": [],
   "source": [
    "all_data['GoodNeighborhood'] = ((all_data['Neighborhood'] == 'StoneBr') | (all_data['Neighborhood'] == 'NridgHt') | (all_data['Neighborhood'] == 'NoRidge')).astype(str)\n",
    "#make use of highly-correlated features\n",
    "all_data['GoodQu'] = (all_data['OverallQual'] > 6).astype(int)\n",
    "all_data['GoodCon'] = (all_data['OverallCond'] > 6).astype(int)\n",
    "#PLOHO\n",
    "all_data['GoodExQu'] = ((all_data['ExterQual'] == 5) | (all_data['ExterQual'] == 4)).astype(int)\n",
    "\n",
    "#all_data['GoodExCond'] = ((all_data['ExterCond'] == 'Ex') | (all_data['ExterCond'] == 'Gd')).astype(int)\n",
    "#all_data['ExBsmtCond'] = (all_data['BsmtCond'] == 'Ex').astype(int)\n",
    "\n",
    "#OCHEN PLOHO\n",
    "all_data['GoodBsmtQual'] = (all_data['BsmtQual'] == 5).astype(int)\n",
    "\n",
    "#PLOHO\n",
    "all_data['GoodHeat'] = (all_data['HeatingQC'] == 5).astype(int)\n",
    "\n",
    "#all_data['GoodKitchen'] = ((all_data['KitchenQual'] == 'Ex') | (all_data['KitchenQual'] == 'Gd')).astype(int)\n",
    "#PLOHO\n",
    "all_data['FinGarage'] = (all_data[\"GarageFinish\"] == 'Fin').astype(int)\n",
    "all_data['New'] = (all_data[\"SaleType\"] == 'New').astype(int)\n",
    "\n",
    "\n",
    "all_data['PoorQ'] = (all_data[\"ExterQual\"] == 1).astype(int)\n",
    "all_data['PoorKi'] = (all_data[\"KitchenQual\"] == 1).astype(int)\n",
    "\n",
    "all_data[\"OverallQual-s2\"] = np.sqrt(all_data[\"OverallQual\"])\n",
    "all_data[\"GrLivArea-s2\"] = np.sqrt(all_data[\"GrLivArea\"])\n",
    "all_data[\"GarageCars-s2\"] = np.sqrt(all_data[\"GarageCars\"])\n",
    "all_data[\"TotalBsmtSF-s2\"] = all_data[\"TotalBsmtSF\"] ** 2\n",
    "all_data[\"FullBath-s2\"] = all_data[\"FullBath\"] ** 2\n",
    "all_data[\"YearBuilt-s2\"] = all_data[\"YearBuilt\"] ** 2\n",
    "all_data[\"YearRemodAdd-s2\"] = all_data[\"YearRemodAdd\"] ** 2\n",
    "\n",
    "all_data[\"TotArea\"] = all_data[\"GrLivArea\"] + all_data[\"TotalBsmtSF\"]\n",
    "all_data[\"HasFirePlace\"] =all_data[\"Fireplaces\"]>0 \n",
    "all_data[\"HasWoodDeck \"] =all_data[\"WoodDeckSF\"]>0\n",
    "all_data[\"GoodSubClass\"] = ((all_data[\"MSSubClass\"] == 120) | (all_data[\"MSSubClass\"] == 60) | (all_data[\"MSSubClass\"] == 20)).astype(str)\n"
   ]
  },
  {
   "cell_type": "markdown",
   "metadata": {},
   "source": [
    "Transform categorical features into dummies"
   ]
  },
  {
   "cell_type": "code",
   "execution_count": 11,
   "metadata": {
    "collapsed": true
   },
   "outputs": [],
   "source": [
    "all_data = pd.get_dummies(all_data)"
   ]
  },
  {
   "cell_type": "code",
   "execution_count": 12,
   "metadata": {
    "collapsed": true
   },
   "outputs": [],
   "source": [
    "all_data = all_data.fillna(all_data.mean())"
   ]
  },
  {
   "cell_type": "code",
   "execution_count": 13,
   "metadata": {},
   "outputs": [
    {
     "name": "stdout",
     "output_type": "stream",
     "text": [
      "Features sorted by their score:\n",
      "[(0.29121488679358287, 'OverallQual'), (0.2718334838295551, 'TotArea'), (0.1941348303743891, 'OverallQual-s2'), (0.03965401587008142, '2ndFlrSF'), (0.018849545396280937, 'KitchenQual'), (0.014615507481852526, 'LotArea'), (0.013125796484790803, 'HowFastSold'), (0.012953131287493591, 'MasVnrArea'), (0.008845675330794934, 'BsmtUnfSF'), (0.007756166638203547, 'BsmtFinSF1'), (0.006645265059550332, 'GrLivArea-s2'), (0.005766963403953539, 'GrLivArea'), (0.005553358853751831, 'TotalBsmtSF-s2'), (0.005295069768921226, 'GarageYrBlt'), (0.005263234060356277, 'YearSinceRemodelled'), (0.004895714353773929, 'OpenPorchSF'), (0.004647319712244798, 'LotFrontage'), (0.004421433994466137, 'OverallCond'), (0.004092026219860453, 'GoodQu'), (0.003989397105370784, 'GarageCars-s2'), (0.003963921891659509, 'YearBuilt'), (0.003532788748772968, 'FireplaceQu'), (0.0027490017147206833, 'GoodBsmtQual'), (0.0027215076988404085, 'WoodDeckSF'), (0.002649801343220982, 'BsmtExposure'), (0.0022549228456080718, 'YearRemodAdd-s2'), (0.002188321835737168, 'TotalBsmtSF'), (0.00205320360840872, 'MoSold'), (0.002004799222833153, 'YearBuilt-s2'), (0.001974910732436295, 'Neighborhood_Edwards'), (0.0018719769909633435, 'GarageCars'), (0.0018641175464248535, 'BsmtQual'), (0.0017681672197175289, 'ScreenPorch'), (0.001719491221041763, 'GarageCond'), (0.0016996135345570848, 'Age'), (0.0015707940223767653, 'HasFirePlace'), (0.001570213570409491, 'Condition1_PosN'), (0.0014382819788729486, 'LotShape_Reg'), (0.0013099997388782156, 'BsmtFinSF2'), (0.0012838615325452118, 'YearRemodAdd'), (0.001222895958488643, 'ExterQual'), (0.0010872005119090915, 'CentralAir'), (0.0010577373078556652, 'GarageType_Attchd'), (0.0009875622901093278, 'SaleType_WD'), (0.0008896474808713891, 'Fireplaces'), (0.000860561593528434, 'YrSold'), (0.0007965445143217857, 'BedroomAbvGr'), (0.0007903556251205455, 'MSZoning_RM'), (0.0007689630342101194, 'Remodelled'), (0.0007605497466773429, 'MasVnrType_Stone'), (0.0007496105956148037, 'HouseStyle_2Story'), (0.0007434537513880046, 'LandContour_Lvl'), (0.000737793591132252, 'FullBath'), (0.0007213470864757435, 'GoodSubClass_True'), (0.0006716863116068372, 'GoodCon'), (0.0006437665299447297, 'Exterior1st_MetalSd'), (0.0006143373264603243, 'Functional'), (0.000581217902840709, 'GarageFinish_Unf'), (0.0005721402705989667, 'RoofStyle_Gable'), (0.0005374371980531286, 'LandContour_Low'), (0.0004908431320803291, 'BsmtFullBath'), (0.00046906131784809344, 'Neighborhood_NAmes'), (0.0004667232783179872, 'GarageQual'), (0.0004613917819040059, 'LotConfig_Corner'), (0.00042079417573806564, 'Season_spring'), (0.00041346417546851526, 'HeatingQC'), (0.00040453863720963534, 'HalfBath'), (0.00040176096531302117, 'Season_summer'), (0.00040128393073886657, 'BsmtFinType1_GLQ'), (0.0003837036884654946, 'RoofStyle_Flat'), (0.000381345540892132, 'SaleCondition_Abnorml'), (0.0003510036406636524, 'MSZoning_C (all)'), (0.0003498555318483105, 'LotConfig_Inside'), (0.00032845960247166345, 'Neighborhood_OldTown'), (0.00031805330284373327, 'MSZoning_RL'), (0.00031455291069193566, 'Foundation_CBlock'), (0.000303854862017746, 'GarageType_Detchd'), (0.0003013836154109401, 'Fence'), (0.00029625566913788783, 'HasWoodDeck '), (0.00029458387721808757, 'Exterior1st_VinylSd'), (0.00029399597840085195, 'Neighborhood_IDOTRR'), (0.00029366854958837814, 'LotConfig_CulDSac'), (0.0002869380391725773, 'HouseStyle_1.5Fin'), (0.0002779366993163196, 'Condition1_Artery'), (0.0002760638225097423, 'MasVnrType_BrkFace'), (0.00026746494281763253, 'BldgType_1Fam'), (0.00024117121110803116, 'SaleCondition_Normal'), (0.00023280106902682918, 'HouseStyle_SLvl'), (0.00023245339108425044, 'Season_autumn'), (0.00023183753740025595, 'Condition1_Norm'), (0.00022428947194101114, 'BsmtCond'), (0.00021755293511892439, 'ExterCond'), (0.00019533494560773174, 'HouseStyle_1Story'), (0.0001939365950475231, 'PavedDrive'), (0.00018792357440375725, 'GoodNeighborhood_True'), (0.00016832165785256152, 'BsmtHalfBath'), (0.00016528292727060402, 'GarageType_BuiltIn'), (0.00016011012276732377, 'Foundation_PConc'), (0.00015435623798143412, 'Exterior2nd_HdBoard'), (0.00015144898594162022, 'FullBath-s2'), (0.00015087048952693157, 'SaleType_COD'), (0.00014851081316672688, 'GarageFinish_RFn'), (0.00014283120923992866, 'BsmtFinType1_Unf'), (0.00014089164684359995, 'Condition1_Feedr'), (0.00013865814155509008, 'BsmtFinType1_LwQ'), (0.00013319202656324712, 'EnclosedPorch'), (0.0001320231125181873, 'Neighborhood_SawyerW'), (0.00013172793247369707, 'Alley_0'), (0.00012861404477900417, 'MSSubClass_70'), (0.0001279310946846058, 'Neighborhood_MeadowV'), (0.000120342070852376, 'SaleCondition_Partial'), (0.00011429746147383658, 'Condition1_PosA'), (0.00011317977450389558, 'Exterior2nd_VinylSd'), (0.00010832685123304486, 'BsmtFinType1_BLQ'), (0.00010720703151133448, 'Neighborhood_Crawfor'), (0.00010676809177008607, 'MSSubClass_30'), (0.0001058108309657799, 'SaleCondition_Family'), (0.00010382244376659867, 'Neighborhood_Timber'), (0.00010282382315653302, 'LowQualFinSF'), (0.00010244110709030927, 'Neighborhood_BrkSide'), (9.948571415052492e-05, 'Neighborhood_NWAmes'), (9.52805136648659e-05, 'MSSubClass_60'), (9.502441433560802e-05, 'MasVnrType_None'), (9.441983275318311e-05, 'BsmtFinType2_Unf'), (9.269984060767846e-05, 'FinGarage'), (9.170218830319366e-05, 'LotShape_IR1'), (8.971031158381114e-05, 'GoodHeat'), (8.656055250093611e-05, 'Exterior1st_Wd Sdng'), (8.486942571637657e-05, 'GoodExQu'), (8.468642397881352e-05, 'Exterior1st_Plywood'), (8.383066698623559e-05, 'Exterior1st_BrkComm'), (8.330017535239462e-05, 'Neighborhood_Somerst'), (8.322964154619637e-05, 'MSSubClass_50'), (8.308230408172521e-05, 'Neighborhood_Sawyer'), (8.277648724259852e-05, 'Exterior1st_CemntBd'), (8.243831766065795e-05, 'Neighborhood_CollgCr'), (8.158422413369791e-05, 'Has2ndFloor'), (7.949945334457585e-05, 'Season_winter'), (7.725804245068764e-05, 'LandSlope_Gtl'), (7.655240995218583e-05, '3SsnPorch'), (7.588602155375498e-05, 'GarageFinish_Fin'), (7.467494057586497e-05, 'SaleCondition_Alloca'), (7.339533208882253e-05, 'Exterior2nd_BrkComm'), (7.224773497491964e-05, 'BldgType_2fmCon'), (7.189708503050135e-05, 'LotConfig_FR3'), (6.961832155601536e-05, 'Neighborhood_ClearCr'), (6.935893146507025e-05, 'Electrical_FuseA'), (6.702632178718103e-05, 'RoofStyle_Hip'), (6.505541086936852e-05, 'GoodSubClass_False'), (6.405584605575613e-05, 'Foundation_BrkTil'), (6.40089328715082e-05, 'Exterior2nd_Plywood'), (6.2322839245521e-05, 'Exterior1st_AsbShng'), (6.077629340149262e-05, 'BsmtFinType1_ALQ'), (5.665187844147681e-05, 'MSZoning_FV'), (5.413320908667489e-05, 'MiscVal'), (5.35963457665624e-05, 'LandContour_HLS'), (5.335146904588931e-05, 'MSSubClass_20'), (5.203271523002663e-05, 'Neighborhood_Mitchel'), (5.135886322433633e-05, 'Exterior2nd_CemntBd'), (4.977921586651279e-05, 'BsmtFinType1_Rec'), (4.250711120395668e-05, 'LandContour_Bnk'), (4.042105124484451e-05, 'BldgType_TwnhsE'), (4.039065596768941e-05, 'Neighborhood_StoneBr'), (4.027496146641851e-05, 'Electrical_SBrkr'), (3.94468152957055e-05, 'Exterior2nd_Wd Sdng'), (3.769108261745869e-05, 'Neighborhood_Gilbert'), (3.585299830439081e-05, 'BsmtFinType2_GLQ'), (3.506397301535669e-05, 'Neighborhood_NoRidge'), (3.306350926288334e-05, 'LotConfig_FR2'), (3.270530082288311e-05, 'Exterior1st_WdShing'), (3.250199991375939e-05, 'BsmtFinType2_Rec'), (3.245789498263004e-05, 'Neighborhood_Veenker'), (3.211329397333423e-05, 'Neighborhood_NridgHt'), (3.16650001953903e-05, 'GoodNeighborhood_False'), (3.070946640721565e-05, 'Exterior2nd_BrkFace'), (3.040794407735935e-05, 'MasVnrType_BrkCmn'), (2.985538537800208e-05, 'LotShape_IR2'), (2.393387269188594e-05, 'New'), (2.298921239864556e-05, 'Exterior1st_HdBoard'), (2.18649909146012e-05, 'LandSlope_Mod'), (2.016165082747655e-05, 'Alley_Pave'), (1.976458390202014e-05, 'BsmtFinType2_ALQ'), (1.949687962989694e-05, 'SaleType_Con'), (1.89381553487212e-05, 'MSSubClass_80'), (1.816435897884991e-05, 'RoofStyle_Gambrel'), (1.742195407127081e-05, 'Exterior2nd_MetalSd'), (1.645340743760264e-05, 'BsmtFinType2_LwQ'), (1.644305656641393e-05, 'Condition1_RRAn'), (1.613338778268342e-05, 'GarageType_0'), (1.436512740841765e-05, 'SaleType_New'), (1.40938501649498e-05, 'MSSubClass_45'), (1.311901145677779e-05, 'Electrical_FuseF'), (1.260045320922275e-05, 'Neighborhood_SWISU'), (1.066231052821996e-05, 'Exterior1st_BrkFace'), (1.044192381648293e-05, 'Exterior2nd_Stucco'), (9.84969387844119e-06, 'MSSubClass_120'), (8.71424725274272e-06, 'BsmtFinType2_0'), (7.59923237866396e-06, 'Neighborhood_NPkVill'), (6.06943047642088e-06, 'KitchenAbvGr'), (5.9392607914709e-06, 'Condition1_RRAe'), (4.72460023236057e-06, 'SaleType_ConLw'), (4.45653007815424e-06, 'BldgType_Twnhs'), (3.95287662357469e-06, 'HouseStyle_SFoyer'), (3.69511796161113e-06, 'MasVnrType_0'), (3.66223804475478e-06, 'BsmtFinType1_0'), (3.55049629148362e-06, 'Condition2_RRNn'), (3.50710576477289e-06, 'BldgType_Duplex'), (3.31767739737306e-06, 'GarageType_Basment'), (2.74477209312998e-06, 'Exterior2nd_WdShing'), (2.35677337007578e-06, 'Foundation_Stone'), (2.3493001601644e-06, 'BsmtFinType2_BLQ'), (2.34008153216217e-06, 'MSSubClass_160'), (2.19082238359853e-06, 'HouseStyle_2.5Unf'), (2.07857295443801e-06, 'GarageFinish_0'), (2.05695520871864e-06, 'Condition2_Norm'), (1.99610648946857e-06, 'MSSubClass_90'), (1.97433697002059e-06, 'MSSubClass_85'), (1.93918493770622e-06, 'Street_Pave'), (1.64192487147734e-06, 'MSZoning_RH'), (1.61369583595106e-06, 'MSSubClass_190'), (1.51592345888244e-06, 'HouseStyle_1.5Unf'), (1.49313842222685e-06, 'Alley_Grvl'), (1.45140713219222e-06, 'SaleType_ConLD'), (1.44174352939528e-06, 'MSSubClass_40'), (1.19845170353478e-06, 'Exterior1st_ImStucc'), (4.9003406409235e-07, 'PoolQC'), (4.1809577557043e-07, 'Street_Grvl'), (3.9575124992441e-07, 'GarageType_CarPort'), (1.862280538529e-07, 'Exterior1st_Stucco'), (1.0404414686564e-07, 'RoofStyle_Mansard'), (6.481797540633e-08, 'Foundation_Wood'), (3.794450939824e-08, 'Foundation_Slab'), (3.166942010115e-08, 'Neighborhood_BrDale'), (1.489824430823e-08, 'SaleType_ConLI'), (1.123080521847e-08, 'LotShape_IR3'), (1.120080414117e-08, 'MSSubClass_75'), (9.93216287215e-09, 'RoofStyle_Shed'), (7.20199726808e-09, 'Condition2_PosA'), (0.0, 'SaleType_Oth'), (0.0, 'SaleType_CWD'), (0.0, 'SaleCondition_AdjLand'), (0.0, 'PoorQ'), (0.0, 'PoorKi'), (0.0, 'PoolArea'), (0.0, 'Neighborhood_Blueste'), (0.0, 'Neighborhood_Blmngtn'), (0.0, 'MSSubClass_180'), (0.0, 'MSSubClass_150'), (0.0, 'LandSlope_Sev'), (0.0, 'HouseStyle_2.5Fin'), (0.0, 'GarageType_2Types'), (0.0, 'Exterior2nd_Stone'), (0.0, 'Exterior2nd_Other'), (0.0, 'Exterior2nd_ImStucc'), (0.0, 'Exterior2nd_CBlock'), (0.0, 'Exterior2nd_AsphShn'), (0.0, 'Exterior2nd_AsbShng'), (0.0, 'Exterior1st_Stone'), (0.0, 'Exterior1st_Other'), (0.0, 'Exterior1st_CBlock'), (0.0, 'Exterior1st_AsphShn'), (0.0, 'Electrical_Mix'), (0.0, 'Electrical_FuseP'), (0.0, 'Condition2_RRAn'), (0.0, 'Condition2_RRAe'), (0.0, 'Condition2_PosN'), (0.0, 'Condition2_Feedr'), (0.0, 'Condition2_Artery'), (0.0, 'Condition1_RRNn'), (0.0, 'Condition1_RRNe')]\n"
     ]
    }
   ],
   "source": [
    "rf = RandomForestRegressor()\n",
    "rf.fit(all_data[:data_train.shape[0]], data_train['SalePrice'])\n",
    "names = list(all_data[:data_train.shape[0]])\n",
    "print \"Features sorted by their score:\"\n",
    "print sorted(zip(map(lambda x: round(x, 20), rf.feature_importances_), names), \n",
    "             reverse=True)"
   ]
  },
  {
   "cell_type": "markdown",
   "metadata": {},
   "source": [
    "Drop features that cause overfitting or reduce accuracy, according to analysis"
   ]
  },
  {
   "cell_type": "code",
   "execution_count": 14,
   "metadata": {
    "collapsed": true
   },
   "outputs": [],
   "source": [
    "#drop irrelevant features\n",
    "all_data = all_data.drop('MSZoning_C (all)', axis=1)\n",
    "all_data = all_data.drop('MSSubClass_160', axis=1)\n",
    "#all_data = all_data.drop('Electrical_Mix', 1)\n",
    "#all_data = all_data.drop('GarageQual_Ex', 1)\n",
    "#all_data = all_data.drop('HouseStyle_2.5Fin', 1)\n",
    "all_data = all_data.drop('MSSubClass_150', axis = 1)\n",
    "#all_data = all_data.drop('Functional_Sev', axis = 1)\n",
    "#all_data = all_data.drop('HeatingQC_Po', 1)\n"
   ]
  },
  {
   "cell_type": "markdown",
   "metadata": {},
   "source": [
    "Features Condition1_.. and Condition2_.. represent the presence of some facility. We analyze them and transform to the features, identifyingg the presence of this facility. For example, we can imagine a house with values 'Artery' and 'RRNn'. It can be represented either as {Condition1_Artery == 1, Condition1_RRNn == 0, Condition2_RRNn == 1, Condition2_Artery == 0} or {Condition1_Artery == 0, Condition1_RRNn == 1, Condition2_RRNn == 0, Condition2_Artery == 1}. Such features add noise, so we will create features 'Artery' and 'Feedr' respectively.\n",
    "Same goes for features Exterior1st_.., Exterior2nd_.. and BsmtFinType1_.., BsmtFinType2_..."
   ]
  },
  {
   "cell_type": "code",
   "execution_count": 15,
   "metadata": {
    "collapsed": true
   },
   "outputs": [],
   "source": [
    "#After getting dummies of Condition1 and Condition2 we might add noize to the data. Let's group them:\n",
    "all_data[\"Artery\"] = (all_data[\"Condition1_Artery\"] | all_data[\"Condition2_Artery\"]).astype(int)\n",
    "all_data[\"Feedr\"] = (all_data[\"Condition1_Feedr\"] | all_data[\"Condition2_Feedr\"]).astype(int)\n",
    "all_data[\"Norm\"] = (all_data[\"Condition1_Norm\"] | all_data[\"Condition2_Norm\"]).astype(int)\n",
    "all_data[\"RRNn\"] = (all_data[\"Condition1_RRNn\"] | all_data[\"Condition2_RRNn\"]).astype(int)\n",
    "all_data[\"RRAn\"] = (all_data[\"Condition1_RRAn\"] | all_data[\"Condition2_RRAn\"]).astype(int)\n",
    "all_data[\"PosN\"] = (all_data[\"Condition1_PosN\"] | all_data[\"Condition2_PosN\"]).astype(int)\n",
    "all_data[\"PosA\"] = (all_data[\"Condition1_PosA\"] | all_data[\"Condition2_PosA\"]).astype(int)\n",
    "all_data[\"RRNe\"] = (all_data[\"Condition1_RRNe\"]).astype(int)\n",
    "all_data[\"RRAe\"] = (all_data[\"Condition1_RRAe\"] | all_data[\"Condition2_RRAe\"]).astype(int)\n",
    "all_data = all_data.drop(\"Condition1_Artery\", axis = 1)\n",
    "all_data = all_data.drop(\"Condition1_Feedr\", axis = 1)\n",
    "all_data = all_data.drop(\"Condition1_Norm\", axis = 1)\n",
    "all_data = all_data.drop(\"Condition1_RRNn\", axis = 1)\n",
    "all_data = all_data.drop(\"Condition1_RRAn\", axis = 1)\n",
    "all_data = all_data.drop(\"Condition1_PosN\", axis = 1)\n",
    "all_data = all_data.drop(\"Condition1_PosA\", axis = 1)\n",
    "all_data = all_data.drop(\"Condition1_RRNe\", axis = 1)\n",
    "all_data = all_data.drop(\"Condition1_RRAe\", axis = 1)\n",
    "all_data = all_data.drop(\"Condition2_Artery\", axis = 1)\n",
    "all_data = all_data.drop(\"Condition2_Feedr\", axis = 1)\n",
    "all_data = all_data.drop(\"Condition2_Norm\", axis = 1)\n",
    "all_data = all_data.drop(\"Condition2_RRNn\", axis = 1)\n",
    "all_data = all_data.drop(\"Condition2_RRAn\", axis = 1)\n",
    "all_data = all_data.drop(\"Condition2_PosN\", axis = 1)\n",
    "all_data = all_data.drop(\"Condition2_PosA\", axis = 1)\n",
    "#all_data = all_data.drop(\"Condition2_RRNe\")\n",
    "all_data = all_data.drop(\"Condition2_RRAe\", axis = 1)"
   ]
  },
  {
   "cell_type": "code",
   "execution_count": 16,
   "metadata": {
    "collapsed": true
   },
   "outputs": [],
   "source": [
    "#same for Exteriors 1 and 2\n",
    "all_data[\"AsbShng\"] = (all_data[\"Exterior1st_AsbShng\"] | all_data[\"Exterior2nd_AsbShng\"]).astype(int)\n",
    "all_data[\"AsphShn\"] = (all_data[\"Exterior1st_AsphShn\"] | all_data[\"Exterior2nd_AsphShn\"]).astype(int)\n",
    "all_data[\"BrkComm\"] = (all_data[\"Exterior1st_BrkComm\"] | all_data[\"Exterior2nd_BrkComm\"]).astype(int)\n",
    "all_data[\"BrkFace\"] = (all_data[\"Exterior1st_BrkFace\"] | all_data[\"Exterior2nd_BrkFace\"]).astype(int)\n",
    "all_data[\"CBlock\"] = (all_data[\"Exterior1st_CBlock\"] | all_data[\"Exterior2nd_CBlock\"]).astype(int)\n",
    "all_data[\"CemntBd\"] = (all_data[\"Exterior1st_CemntBd\"] | all_data[\"Exterior2nd_CemntBd\"]).astype(int)\n",
    "all_data[\"HdBoard\"] = (all_data[\"Exterior1st_HdBoard\"] | all_data[\"Exterior2nd_HdBoard\"]).astype(int)\n",
    "all_data[\"ImStucc\"] = (all_data[\"Exterior1st_ImStucc\"] | all_data[\"Exterior2nd_ImStucc\"]).astype(int)\n",
    "all_data[\"MetalSd\"] = (all_data[\"Exterior1st_MetalSd\"] | all_data[\"Exterior2nd_MetalSd\"]).astype(int)\n",
    "all_data[\"Other\"] = (all_data[\"Exterior1st_Other\"] | all_data[\"Exterior2nd_Other\"]).astype(int)\n",
    "all_data[\"Plywood\"] = (all_data[\"Exterior1st_Plywood\"] | all_data[\"Exterior2nd_Plywood\"]).astype(int)\n",
    "all_data[\"Stone\"] = (all_data[\"Exterior1st_Stone\"] | all_data[\"Exterior2nd_Stone\"]).astype(int)\n",
    "all_data[\"Stucco\"] = (all_data[\"Exterior1st_Stucco\"] | all_data[\"Exterior2nd_Stucco\"]).astype(int)\n",
    "all_data[\"VinylSd\"] = (all_data[\"Exterior1st_VinylSd\"] | all_data[\"Exterior2nd_VinylSd\"]).astype(int)\n",
    "all_data[\"Wd Sdng\"] = (all_data[\"Exterior1st_Wd Sdng\"] | all_data[\"Exterior2nd_Wd Sdng\"]).astype(int)\n",
    "all_data[\"WdShing\"] = (all_data[\"Exterior1st_WdShing\"] | all_data[\"Exterior2nd_WdShing\"]).astype(int)\n",
    "all_data = all_data.drop(\"Exterior1st_AsbShng\", axis = 1)\n",
    "all_data = all_data.drop(\"Exterior1st_AsphShn\", axis = 1)\n",
    "all_data = all_data.drop(\"Exterior1st_BrkComm\", axis = 1)\n",
    "all_data = all_data.drop(\"Exterior1st_BrkFace\", axis = 1)\n",
    "all_data = all_data.drop(\"Exterior1st_CBlock\", axis = 1)\n",
    "all_data = all_data.drop(\"Exterior1st_CemntBd\", axis = 1)\n",
    "all_data = all_data.drop(\"Exterior1st_HdBoard\", axis = 1)\n",
    "all_data = all_data.drop(\"Exterior1st_ImStucc\", axis = 1)\n",
    "all_data = all_data.drop(\"Exterior1st_MetalSd\", axis = 1)\n",
    "all_data = all_data.drop(\"Exterior1st_Other\", axis = 1)\n",
    "all_data = all_data.drop(\"Exterior1st_Plywood\", axis = 1)\n",
    "all_data = all_data.drop(\"Exterior1st_Stone\", axis = 1)\n",
    "all_data = all_data.drop(\"Exterior1st_Stucco\", axis = 1)\n",
    "all_data = all_data.drop(\"Exterior1st_VinylSd\", axis = 1)\n",
    "all_data = all_data.drop(\"Exterior1st_Wd Sdng\", axis = 1)\n",
    "all_data = all_data.drop(\"Exterior1st_WdShing\", axis = 1)\n",
    "all_data = all_data.drop(\"Exterior2nd_AsbShng\", axis = 1)\n",
    "all_data = all_data.drop(\"Exterior2nd_AsphShn\", axis = 1)\n",
    "all_data = all_data.drop(\"Exterior2nd_BrkComm\", axis = 1)\n",
    "all_data = all_data.drop(\"Exterior2nd_BrkFace\", axis = 1)\n",
    "all_data = all_data.drop(\"Exterior2nd_CBlock\", axis = 1)\n",
    "all_data = all_data.drop(\"Exterior2nd_CemntBd\", axis = 1)\n",
    "all_data = all_data.drop(\"Exterior2nd_HdBoard\", axis = 1)\n",
    "all_data = all_data.drop(\"Exterior2nd_ImStucc\", axis = 1)\n",
    "all_data = all_data.drop(\"Exterior2nd_MetalSd\", axis = 1)\n",
    "all_data = all_data.drop(\"Exterior2nd_Other\", axis = 1)\n",
    "all_data = all_data.drop(\"Exterior2nd_Plywood\", axis = 1)\n",
    "all_data = all_data.drop(\"Exterior2nd_Stone\", axis = 1)\n",
    "all_data = all_data.drop(\"Exterior2nd_Stucco\", axis = 1)\n",
    "all_data = all_data.drop(\"Exterior2nd_VinylSd\", axis = 1)\n",
    "all_data = all_data.drop(\"Exterior2nd_Wd Sdng\", axis = 1)\n",
    "all_data = all_data.drop(\"Exterior2nd_WdShing\", axis = 1)"
   ]
  },
  {
   "cell_type": "code",
   "execution_count": 17,
   "metadata": {
    "collapsed": true
   },
   "outputs": [],
   "source": [
    "#same for BsmtFinType1 and BsmtFinType2\n",
    "all_data[\"GLQ\"] = (all_data[\"BsmtFinType1_GLQ\"] | all_data[\"BsmtFinType2_GLQ\"]).astype(int)\n",
    "all_data[\"ALQ\"] = (all_data[\"BsmtFinType1_ALQ\"] | all_data[\"BsmtFinType2_ALQ\"]).astype(int)\n",
    "all_data[\"BLQ\"] = (all_data[\"BsmtFinType1_BLQ\"] | all_data[\"BsmtFinType2_BLQ\"]).astype(int)\n",
    "all_data[\"Rec\"] = (all_data[\"BsmtFinType1_Rec\"] | all_data[\"BsmtFinType2_Rec\"]).astype(int)\n",
    "all_data[\"LwQ\"] = (all_data[\"BsmtFinType1_LwQ\"] | all_data[\"BsmtFinType2_LwQ\"]).astype(int)\n",
    "all_data[\"Unf\"] = (all_data[\"BsmtFinType1_Unf\"] | all_data[\"BsmtFinType2_Unf\"]).astype(int)\n",
    "all_data = all_data.drop(\"BsmtFinType1_GLQ\", axis = 1)\n",
    "all_data = all_data.drop(\"BsmtFinType1_ALQ\", axis = 1)\n",
    "all_data = all_data.drop(\"BsmtFinType1_BLQ\", axis = 1)\n",
    "all_data = all_data.drop(\"BsmtFinType1_Rec\", axis = 1)\n",
    "all_data = all_data.drop(\"BsmtFinType1_LwQ\", axis = 1)\n",
    "all_data = all_data.drop(\"BsmtFinType1_Unf\", axis = 1)\n",
    "all_data = all_data.drop(\"BsmtFinType2_GLQ\", axis = 1)\n",
    "all_data = all_data.drop(\"BsmtFinType2_ALQ\", axis = 1)\n",
    "all_data = all_data.drop(\"BsmtFinType2_BLQ\", axis = 1)\n",
    "all_data = all_data.drop(\"BsmtFinType2_Rec\", axis = 1)\n",
    "all_data = all_data.drop(\"BsmtFinType2_LwQ\", axis = 1)\n",
    "all_data = all_data.drop(\"BsmtFinType2_Unf\", axis = 1)"
   ]
  },
  {
   "cell_type": "markdown",
   "metadata": {},
   "source": [
    "Drop another irrelevant feature"
   ]
  },
  {
   "cell_type": "code",
   "execution_count": 18,
   "metadata": {
    "collapsed": true
   },
   "outputs": [],
   "source": [
    "#all_data = all_data.drop('ImStucc', 1)\n",
    "#all_data = all_data.drop('Stone', 1)\n",
    "all_data = all_data.drop('Other', axis = 1)\n",
    "#all_data = all_data.drop('CBlock', 1)"
   ]
  },
  {
   "cell_type": "markdown",
   "metadata": {},
   "source": [
    "For 0s in Garage and Basement, introduce new features - NoGarage and NoBasement"
   ]
  },
  {
   "cell_type": "code",
   "execution_count": 19,
   "metadata": {
    "collapsed": true
   },
   "outputs": [],
   "source": [
    "all_data['NoGarage'] = 0\n",
    "all_data['NoBasement'] = 0\n",
    "for i in range(0,all_data.shape[0]):\n",
    "    if ((all_data.iloc[i]['GarageType_0'] == 1) and (all_data.iloc[i]['GarageFinish_0'] == 1) \n",
    "        and (all_data.iloc[i]['GarageCond'] == 0) and (all_data.iloc[i]['GarageQual'] == 0)):\n",
    "        all_data.loc[i,'NoGarage'] = 1\n",
    "    if ((all_data.iloc[i]['BsmtQual'] == 0) and (all_data.iloc[i]['BsmtCond'] == 0) and (all_data.iloc[i]['BsmtExposure'] == 0)):\n",
    "        all_data.loc[i,'NoBasement'] = 1\n",
    "    "
   ]
  },
  {
   "cell_type": "markdown",
   "metadata": {},
   "source": [
    "Find outliers:\n",
    "(I actually removed them straight in the data file beforehand )"
   ]
  },
  {
   "cell_type": "code",
   "execution_count": 20,
   "metadata": {
    "scrolled": true
   },
   "outputs": [],
   "source": [
    "#find outliers and remember them (we can hardcode as we can only run this once)\n",
    "train = all_data[:data_train.shape[0]]\n",
    "y=data_train[\"SalePrice\"]\n",
    "import statsmodels.api as sm\n",
    "model = sm.OLS(y,train)\n",
    "results = model.fit()\n",
    "print 'hi'\n",
    "bonf_test = results.outlier_test()['bonf(p)']\n",
    "bonf_outlier = list(bonf_test[bonf_test<1e-3].index) \n",
    "print(bonf_test[bonf_test<1e-3])"
   ]
  },
  {
   "cell_type": "markdown",
   "metadata": {},
   "source": [
    "Unskew the most skewed columns:"
   ]
  },
  {
   "cell_type": "code",
   "execution_count": 20,
   "metadata": {
    "collapsed": true
   },
   "outputs": [],
   "source": [
    "cols_skew = [col for col in all_data if '_2num' in col or '_' not in col]\n",
    "all_data[cols_skew].skew()\n",
    "cols_unskew = all_data[cols_skew].columns[abs(all_data[cols_skew].skew()) > 1]\n",
    "for col in cols_unskew:\n",
    "    all_data[col] = np.log1p(all_data[col])"
   ]
  },
  {
   "cell_type": "markdown",
   "metadata": {},
   "source": [
    "Separate data back to train, test and target:"
   ]
  },
  {
   "cell_type": "code",
   "execution_count": 21,
   "metadata": {
    "collapsed": true
   },
   "outputs": [],
   "source": [
    "train = all_data[:data_train.shape[0]]\n",
    "test = all_data[data_train.shape[0]:]\n",
    "y=data_train[\"SalePrice\"]"
   ]
  },
  {
   "cell_type": "markdown",
   "metadata": {},
   "source": [
    "Separate data for cross-validation:"
   ]
  },
  {
   "cell_type": "code",
   "execution_count": 22,
   "metadata": {
    "collapsed": true
   },
   "outputs": [],
   "source": [
    "X_train, x_test, y_train, y_test = model_selection.train_test_split(train, y, test_size=0.33, random_state=42)\n"
   ]
  },
  {
   "cell_type": "markdown",
   "metadata": {},
   "source": [
    "# MODELS"
   ]
  },
  {
   "cell_type": "markdown",
   "metadata": {},
   "source": [
    "Try base models:"
   ]
  },
  {
   "cell_type": "code",
   "execution_count": 23,
   "metadata": {},
   "outputs": [
    {
     "name": "stdout",
     "output_type": "stream",
     "text": [
      "Computing...\n",
      "Lasso(alpha=1.0, copy_X=True, fit_intercept=True, max_iter=1000,\n",
      "   normalize=False, positive=False, precompute=False, random_state=None,\n",
      "   selection='cyclic', tol=0.0001, warm_start=False)\n",
      "0.190865190745\n"
     ]
    },
    {
     "name": "stderr",
     "output_type": "stream",
     "text": [
      "c:\\python27\\lib\\site-packages\\sklearn\\linear_model\\coordinate_descent.py:484: ConvergenceWarning: Objective did not converge. You might want to increase the number of iterations. Fitting data with very small alpha may cause precision problems.\n",
      "  ConvergenceWarning)\n"
     ]
    }
   ],
   "source": [
    "model = Lasso(max_iter = 1000)\n",
    "print \"Computing...\"\n",
    "print model.fit(X_train, y_train)\n",
    "#print model.fit(X_train, y_train, sample_weight=None)\n",
    "predict_cv = model.predict(x_test)\n",
    "acc=rmsle(y_test.values, predict_cv)\n",
    "print acc"
   ]
  },
  {
   "cell_type": "code",
   "execution_count": 24,
   "metadata": {},
   "outputs": [
    {
     "name": "stdout",
     "output_type": "stream",
     "text": [
      "Computing...\n",
      "ElasticNet(alpha=1.0, copy_X=True, fit_intercept=True, l1_ratio=0.5,\n",
      "      max_iter=1000000, normalize=False, positive=False, precompute=False,\n",
      "      random_state=None, selection='cyclic', tol=0.0001, warm_start=False)\n",
      "0.171554443853\n"
     ]
    }
   ],
   "source": [
    "from sklearn.linear_model import ElasticNet\n",
    "model = ElasticNet(max_iter = 1000000)\n",
    "print \"Computing...\"\n",
    "print model.fit(X_train, y_train)\n",
    "#print model.fit(X_train, y_train, sample_weight=None)\n",
    "predict_cv = model.predict(x_test)\n",
    "acc=rmsle(y_test.values, predict_cv)\n",
    "print acc"
   ]
  },
  {
   "cell_type": "code",
   "execution_count": 25,
   "metadata": {},
   "outputs": [
    {
     "name": "stdout",
     "output_type": "stream",
     "text": [
      "0.145140301191\n"
     ]
    }
   ],
   "source": [
    "rf_test = RandomForestRegressor(max_depth=30, n_estimators=500, max_features = 200, oob_score=True, random_state=1234)\n",
    "rf_test.fit(X_train, y_train)\n",
    "predict_cv = rf_test.predict(x_test)\n",
    "acc=rmsle(y_test.values, predict_cv)\n",
    "print acc"
   ]
  },
  {
   "cell_type": "code",
   "execution_count": 26,
   "metadata": {},
   "outputs": [
    {
     "name": "stdout",
     "output_type": "stream",
     "text": [
      "0.128163280694\n"
     ]
    }
   ],
   "source": [
    "from sklearn.ensemble import GradientBoostingRegressor\n",
    "GBoost = GradientBoostingRegressor(n_estimators=3000, learning_rate=0.05,\n",
    "                                   max_depth=4, max_features='sqrt',\n",
    "                                   min_samples_leaf=15, min_samples_split=10, \n",
    "                                   loss='huber', random_state =5)\n",
    "GBoost.fit(X_train, y_train)\n",
    "predict_cv = GBoost.predict(x_test)\n",
    "acc=rmsle(y_test.values, predict_cv)\n",
    "print acc"
   ]
  },
  {
   "cell_type": "code",
   "execution_count": 27,
   "metadata": {},
   "outputs": [
    {
     "name": "stdout",
     "output_type": "stream",
     "text": [
      "Computing...\n",
      "<catboost.core.CatBoostRegressor object at 0x000000001ED3F4E0>\n",
      "0.126596081442\n"
     ]
    }
   ],
   "source": [
    "cls = catboost.CatBoostRegressor(learning_rate=0.1, iterations=1000, random_seed=0)\n",
    "print \"Computing...\"\n",
    "print cls.fit(X_train, y_train)\n",
    "#print model.fit(X_train, y_train, sample_weight=None)\n",
    "predict_cv = cls.predict(x_test)\n",
    "acc=rmsle(y_test.values, predict_cv)\n",
    "print acc"
   ]
  },
  {
   "cell_type": "code",
   "execution_count": 28,
   "metadata": {},
   "outputs": [
    {
     "name": "stdout",
     "output_type": "stream",
     "text": [
      "Running fold [1] ...\n",
      "Running fold [2] ...\n",
      "Running fold [3] ...\n",
      "Running fold [4] ...\n",
      "Running fold [5] ...\n",
      "0.203253334096\n"
     ]
    }
   ],
   "source": [
    "#cross-validation\n",
    "kf = KFold(n_splits=5)\n",
    "cls = catboost.CatBoostRegressor(learning_rate=0.1, iterations=1000, random_seed=0)\n",
    "accuracy = 0\n",
    "i = 1\n",
    "t = train.values\n",
    "for tr_index, te_index in kf.split(t):\n",
    "    X_tr, X_te = t[tr_index], t[te_index]\n",
    "    y_tr, y_te = y[tr_index], y[te_index]\n",
    "    print 'Running fold [%s] ...' % (i)\n",
    "    cls.fit(X_tr, y_tr)\n",
    "    acc = rmsle(y_te.values, cls.predict(X_te))\n",
    "    accuracy += acc\n",
    "    i+=1\n",
    "    \n",
    "accuracy = accuracy/3\n",
    "print accuracy"
   ]
  },
  {
   "cell_type": "markdown",
   "metadata": {},
   "source": [
    "## Stacking?"
   ]
  },
  {
   "cell_type": "code",
   "execution_count": 29,
   "metadata": {
    "collapsed": true
   },
   "outputs": [],
   "source": [
    "from sklearn.linear_model import ElasticNet, Lasso,  BayesianRidge, LassoLarsIC\n",
    "from sklearn.ensemble import RandomForestRegressor,  GradientBoostingRegressor\n",
    "from sklearn.feature_selection import SelectFromModel\n",
    "from sklearn.pipeline import make_pipeline\n",
    "from sklearn.preprocessing import RobustScaler\n",
    "from sklearn.base import BaseEstimator, TransformerMixin, RegressorMixin, clone\n",
    "from sklearn.model_selection import KFold, cross_val_score, train_test_split\n",
    "from sklearn.metrics import mean_squared_error\n",
    "import lightgbm as lgb\n",
    "class StackingAveragedModels(BaseEstimator, RegressorMixin, TransformerMixin):\n",
    "    def __init__(self, models, meta_model, n_folds=5):\n",
    "        self.models = models\n",
    "        self.meta_model = meta_model\n",
    "        self.n_folds = n_folds\n",
    "\n",
    "    def fit(self, X, y):\n",
    "        self.models_ = [list() for x in self.models]\n",
    "        self.meta_model_ = clone(self.meta_model)\n",
    "\n",
    "        kfold = KFold(n_splits=self.n_folds, shuffle=True)\n",
    "        \n",
    "        # Train base models then create out-of-fold predictions for training meta-model\n",
    "        out_of_fold_predictions = np.zeros((X.shape[0], len(self.models)))\n",
    "        for i, clf in enumerate(self.models):\n",
    "            for train_idx, holdout_idx in kfold.split(X, y):\n",
    "                instance = clone(clf)\n",
    "                self.models_[i].append(instance)\n",
    "\n",
    "                instance.fit(X[train_idx], y[train_idx])\n",
    "                y_pred = instance.predict(X[holdout_idx])\n",
    "                out_of_fold_predictions[holdout_idx, i] = y_pred\n",
    "                \n",
    "        # Now train meta-model using the out-of-fold predictions\n",
    "        self.meta_model_.fit(out_of_fold_predictions, y)\n",
    "        return self\n",
    "\n",
    "    def predict(self, X):\n",
    "        meta_features = np.column_stack([\n",
    "            np.column_stack([model.predict(X) for model in models]).mean(axis=1)\n",
    "            for models in self.models_ ])\n",
    "        return self.meta_model_.predict(meta_features)"
   ]
  },
  {
   "cell_type": "code",
   "execution_count": 31,
   "metadata": {},
   "outputs": [
    {
     "name": "stdout",
     "output_type": "stream",
     "text": [
      "0.123276060914\n"
     ]
    }
   ],
   "source": [
    "lasso = make_pipeline(RobustScaler(), Lasso(alpha =0.0005, random_state=1))\n",
    "ENet = make_pipeline(RobustScaler(), ElasticNet(alpha=0.0005, l1_ratio=.9, random_state=3))\n",
    "GBoost = GradientBoostingRegressor(n_estimators=3000, learning_rate=0.05,\n",
    "                                   max_depth=4, max_features='sqrt',\n",
    "                                   min_samples_leaf=15, min_samples_split=10, \n",
    "                                   loss='huber', random_state =5)\n",
    "cls = catboost.CatBoostRegressor(learning_rate=0.1, iterations=1000, random_seed=0)\n",
    "\n",
    "\n",
    "\n",
    "stacked_averaged_models = StackingAveragedModels((ENet, GBoost, cls),lasso)\n",
    "\n",
    "stacked_averaged_models.fit(X_train.values, y_train.values)\n",
    "stacked_train_pred = stacked_averaged_models.predict(x_test)\n",
    "stacked_pred = (stacked_averaged_models.predict(test.values))\n",
    "print(rmsle(y_test, stacked_train_pred))"
   ]
  },
  {
   "cell_type": "code",
   "execution_count": 19,
   "metadata": {
    "collapsed": true
   },
   "outputs": [],
   "source": [
    "cls = catboost.CatBoostRegressor(learning_rate=0.1, iterations=1000, random_seed=0)\n",
    "cls.fit(train,y)\n",
    "k = cls.predict(test)\n",
    "k = pd.DataFrame(k, columns=['SalePrice']).to_csv('submit.csv')"
   ]
  },
  {
   "cell_type": "code",
   "execution_count": 19,
   "metadata": {
    "scrolled": true
   },
   "outputs": [],
   "source": [
    "m1 = pd.read_csv('C:\\\\Users\\\\Kateryna\\\\Desktop\\\\kaggle\\\\Housing\\\\results\\\\11756.csv')\n",
    "m2 = pd.read_csv('C:\\\\Users\\\\Kateryna\\\\Desktop\\\\kaggle\\\\Housing\\\\results\\\\11510.csv')\n",
    "m3 = pd.read_csv('C:\\\\Users\\\\Kateryna\\\\Desktop\\\\kaggle\\\\Housing\\\\results\\\\11590.csv')\n",
    "m4 = pd.read_csv('C:\\\\Users\\\\Kateryna\\\\Desktop\\\\kaggle\\\\Housing\\\\11633.csv')\n",
    "m5 = pd.read_csv('C:\\\\Users\\\\Kateryna\\\\Desktop\\\\kaggle\\\\Housing\\\\results\\\\11504.csv')\n",
    "m6 = pd.read_csv('C:\\\\Users\\\\Kateryna\\\\Desktop\\\\kaggle\\\\Housing\\\\results\\\\11508.csv')\n",
    "m7 = pd.read_csv('C:\\\\Users\\\\Kateryna\\\\Desktop\\\\kaggle\\\\Housing\\\\results\\\\111512.csv')\n",
    "\n",
    "g = (m1['SalePrice'] + m2['SalePrice'] + m3['SalePrice'] + m4['SalePrice'] + m5['SalePrice'] + m6['SalePrice']\n",
    "    +   m7['12016'])/7\n",
    "pd.DataFrame(g, columns=['SalePrice']).to_csv('submit.csv')"
   ]
  },
  {
   "cell_type": "code",
   "execution_count": 19,
   "metadata": {
    "collapsed": true
   },
   "outputs": [],
   "source": [
    "fff = pd.DataFrame(all_data).to_csv('all_data.csv')"
   ]
  }
 ],
 "metadata": {
  "kernelspec": {
   "display_name": "Python 2",
   "language": "python",
   "name": "python2"
  },
  "language_info": {
   "codemirror_mode": {
    "name": "ipython",
    "version": 2
   },
   "file_extension": ".py",
   "mimetype": "text/x-python",
   "name": "python",
   "nbconvert_exporter": "python",
   "pygments_lexer": "ipython2",
   "version": "2.7.12"
  }
 },
 "nbformat": 4,
 "nbformat_minor": 2
}
